{
 "cells": [
  {
   "cell_type": "code",
   "execution_count": null,
   "id": "9fe8a5d5",
   "metadata": {},
   "outputs": [],
   "source": [
    "# My Python Notebook\n",
    "This notebook shows simple functions and classes I learned from the video."
   ]
  },
  {
   "cell_type": "code",
   "execution_count": null,
   "id": "0052c642",
   "metadata": {},
   "outputs": [],
   "source": [
    "def greet(name):\n",
    "    print(f\"Hello, {name}!\")"
   ]
  },
  {
   "cell_type": "code",
   "execution_count": null,
   "id": "1115911f",
   "metadata": {},
   "outputs": [],
   "source": [
    "greet(\"Maya\")"
   ]
  },
  {
   "cell_type": "code",
   "execution_count": null,
   "id": "71f848af",
   "metadata": {},
   "outputs": [],
   "source": [
    "class Point:\n",
    "    def __init__(self, x, y):\n",
    "        self.x = x\n",
    "        self.y = y\n",
    "\n",
    "    def move(self):\n",
    "        self.x += 1\n",
    "        self.y += 1\n",
    "\n",
    "    def show(self):\n",
    "        print(f\"Point is at ({self.x}, {self.y})\")"
   ]
  },
  {
   "cell_type": "code",
   "execution_count": null,
   "id": "6e4f14ac",
   "metadata": {},
   "outputs": [],
   "source": [
    "p = Point(2, 3)\n",
    "p.show()\n",
    "p.move()\n",
    "p.show()"
   ]
  }
 ],
 "metadata": {
  "language_info": {
   "name": "python"
  }
 },
 "nbformat": 4,
 "nbformat_minor": 5
}
