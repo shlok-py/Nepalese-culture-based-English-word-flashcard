{
 "cells": [
  {
   "cell_type": "code",
   "execution_count": 1,
   "id": "0271e3ba",
   "metadata": {},
   "outputs": [
    {
     "name": "stdout",
     "output_type": "stream",
     "text": [
      "Amount Due: 25\n",
      "Amount Due: No change owed.\n",
      "Change Owed: 0\n"
     ]
    }
   ],
   "source": [
    "def cokemachine():\n",
    "    total_inserted = 0\n",
    "\n",
    "\n",
    "    while total_inserted < 50:\n",
    "        coin_input = input(\"Insert Coin (25, 10, or 5 cents): \")\n",
    "        if not coin_input.isdigit():\n",
    "            print(\"Amount Due:\", 50 - total_inserted)\n",
    "            print(\"Invalid input. Please enter a valid coin value (25, 10, or 5 cents).\")\n",
    "            continue\n",
    "\n",
    "        coin = int(coin_input)\n",
    "        if coin in {25, 10, 5}:\n",
    "            total_inserted += coin\n",
    "            if total_inserted < 50:\n",
    "                print(\"Amount Due:\", 50 - total_inserted)\n",
    "            elif total_inserted == 50:\n",
    "                print(\"Amount Due: No change owed.\")\n",
    "        else:\n",
    "            print(\"Amount Due:\", 50 - total_inserted)\n",
    "            print(\"Invalid coin. Accepted denominations are 25, 10, or 5 cents.\")\n",
    "\n",
    "    if total_inserted > 50:\n",
    "        change_due = total_inserted - 50\n",
    "        print(\"Change Owed:\", change_due)\n",
    "    elif total_inserted == 50:\n",
    "        print(\"Change Owed: 0\")\n",
    "\n",
    "def main():\n",
    "    cokemachine()\n",
    "\n",
    "if __name__ == \"__main__\":\n",
    "    main()\n"
   ]
  }
 ],
 "metadata": {
  "kernelspec": {
   "display_name": "base",
   "language": "python",
   "name": "python3"
  },
  "language_info": {
   "codemirror_mode": {
    "name": "ipython",
    "version": 3
   },
   "file_extension": ".py",
   "mimetype": "text/x-python",
   "name": "python",
   "nbconvert_exporter": "python",
   "pygments_lexer": "ipython3",
   "version": "3.11.7"
  }
 },
 "nbformat": 4,
 "nbformat_minor": 5
}
